{
 "cells": [
  {
   "cell_type": "markdown",
   "metadata": {},
   "source": [
    "# 실습2 / 전공자반 이정민\n",
    "# 61"
   ]
  },
  {
   "cell_type": "code",
   "execution_count": 46,
   "metadata": {
    "scrolled": true
   },
   "outputs": [
    {
     "name": "stdout",
     "output_type": "stream",
     "text": [
      "숫자 입력하세요: 3\n",
      "숫자 입력하세요: 4\n",
      "숫자 입력하세요: 5\n",
      "숫자 입력하세요: \n",
      "숫자 입력하라고\n",
      "숫자 입력하세요: 0\n",
      "평균: 4.0\n"
     ]
    },
    {
     "data": {
      "text/plain": [
       "[3.0, 4.0, 5.0]"
      ]
     },
     "execution_count": 46,
     "metadata": {},
     "output_type": "execute_result"
    }
   ],
   "source": [
    "#입력받은 값의 평균 계산하는 프로그램\n",
    "#입력종료 0\n",
    "#첫번째값이 0이면 에러출력\n",
    "#마지막 인풋인 0은 평균에서 제외되어야함\n",
    "isFirst = True \n",
    "num=list()\n",
    "while True:\n",
    "    try:\n",
    "        a = float(input('숫자 입력하세요: '))\n",
    "    except: print('숫자 입력하라고')\n",
    "    else: \n",
    "        if a == 0 and (isFirst == False):\n",
    "            break\n",
    "        else:\n",
    "            num.append(a)\n",
    "            if (isFirst == True):\n",
    "                isFirst = False\n",
    "                if a == 0:\n",
    "                    print('값이 없어 평균 못 냅니다 다시 입력하세요')\n",
    "avg = sum(num)/len(num)\n",
    "print('평균:',avg)"
   ]
  },
  {
   "cell_type": "markdown",
   "metadata": {},
   "source": [
    "## 63"
   ]
  },
  {
   "cell_type": "code",
   "execution_count": 37,
   "metadata": {},
   "outputs": [
    {
     "name": "stdout",
     "output_type": "stream",
     "text": [
      "C\tF\n",
      "0 \t 32.0\n",
      "10 \t 50.0\n",
      "20 \t 68.0\n",
      "30 \t 86.0\n",
      "40 \t 104.0\n",
      "50 \t 122.0\n",
      "60 \t 140.0\n",
      "70 \t 158.0\n",
      "80 \t 176.0\n",
      "90 \t 194.0\n",
      "100 \t 212.0\n"
     ]
    }
   ],
   "source": [
    "#온도변환 테이블을 보여주는 프로그램. 섭씨와 화씨\n",
    "#행은 0과 100사이 모든 온도의 c에 대하여..10단위로 점프\n",
    "#열에는 적절한 이름 포함할것\n",
    "#환산공식은 인터넷에서:: (섭씨온도 × 1.8) + 32 = 화씨온도\n",
    "\n",
    "def conversion(c):\n",
    "    return (c*1.8)+32\n",
    "\n",
    "print(\"C\\tF\",end='\\n')\n",
    "for i in range(0,110,10):\n",
    "    print(i,\"\\t\",conversion(i),end=\"\\n\")"
   ]
  },
  {
   "cell_type": "markdown",
   "metadata": {},
   "source": [
    "# 66"
   ]
  },
  {
   "cell_type": "code",
   "execution_count": 49,
   "metadata": {},
   "outputs": [
    {
     "name": "stdout",
     "output_type": "stream",
     "text": [
      "A+\n",
      "A\n",
      "B\n",
      "\n",
      "평균:  3.6666666666666665\n"
     ]
    }
   ],
   "source": [
    "#점수환산표. 글자점수 -> 숫자점수\n",
    "#임의개수의 글자점수를 입력받아 그 숫자점수 평균 계산\n",
    "#점수 다 입력하면 공백 입력\n",
    "#에러체크 하지않아도됨.항상 알파벳 공백 입력가정\n",
    "\n",
    "#딕셔너리 이용\n",
    "grade = dict(zip(['A+','A','A-','B+','B','B-','C+','C','C-','D+','D','D-','F'],[4.0,4.0,3.7,3.3,3.0,2.7,2.3,2.0,1.7,1.3,1.0,0]))\n",
    "points=list()\n",
    "\n",
    "while True:\n",
    "    a = input()\n",
    "    if a == '':\n",
    "        break\n",
    "    else: \n",
    "        points.append(grade.get(a))\n",
    "points\n",
    "avg = sum(points)/len(points)\n",
    "print('평균: ',avg)\n"
   ]
  },
  {
   "cell_type": "markdown",
   "metadata": {},
   "source": [
    "# 67 "
   ]
  },
  {
   "cell_type": "code",
   "execution_count": 67,
   "metadata": {},
   "outputs": [
    {
     "name": "stdout",
     "output_type": "stream",
     "text": [
      "나이를 입력해주세요1\n",
      "나이를 입력해주세요3\n",
      "나이를 입력해주세요36\n",
      "나이를 입력해주세요1\n",
      "나이를 입력해주세요245\n",
      "나이를 입력해주세요14\n",
      "나이를 입력해주세요\n",
      "총 입장료는 78.00 입니다.\n"
     ]
    }
   ],
   "source": [
    "#2살이하는 요금없음\n",
    "#3~12살은 14.00불\n",
    "#65세 이상은 18.00불\n",
    "#일반은 23.00불\n",
    "#프로그램은 유저로부터 그룹의 모든 손님의 나이를 읽는 것으로 시작.\n",
    "#입력완료는 공백으로. 결과는 그룹의 총 입장료, 적절한 메세지와 함께\n",
    "#결과는 소수둘째자리까지\n",
    "def fee(age):\n",
    "    if age<3:\n",
    "        return 0\n",
    "    elif 2<age<13:\n",
    "        return 14.00\n",
    "    elif age>65:\n",
    "        return 18.00\n",
    "    else: return 23.00\n",
    "\n",
    "group = list()\n",
    "while True:\n",
    "    tmp = input('나이를 입력해주세요')\n",
    "    if tmp == '':\n",
    "        break\n",
    "    try:\n",
    "        age = int(tmp)\n",
    "    except:\n",
    "        print(\"정수로 입력해주세요\")\n",
    "    else:\n",
    "        group.append(fee(age))\n",
    "    \n",
    "print(\"총 입장료는 %.2f 입니다.\"%sum(group))\n",
    "        "
   ]
  },
  {
   "cell_type": "markdown",
   "metadata": {},
   "source": [
    "# 72"
   ]
  },
  {
   "cell_type": "code",
   "execution_count": 86,
   "metadata": {},
   "outputs": [
    {
     "name": "stdout",
     "output_type": "stream",
     "text": [
      "level\n",
      "['l', 'e', 'v', 'e', 'l']\n",
      "['l', 'e', 'v', 'e', 'l']\n",
      "Palindrome입니다\n"
     ]
    }
   ],
   "source": [
    "#앞에서 읽든 뒤에서 읽든 같다. \n",
    "#스트링 입력받아 루프를 써서 판정하는 프로그램작성, 결과표시.\n",
    "\n",
    "word = input()\n",
    "a = list(word)\n",
    "b = list()\n",
    "b = a[::-1]\n",
    "print(a)\n",
    "print(b)\n",
    "IsAllSame = True\n",
    "for i in range(0,len(a)):\n",
    "    if a[i]!=b[i]:\n",
    "        IsAllSame = False\n",
    "        \n",
    "print('Palindrome입니다') if IsAllSame==True else print('Palindrome 아닙니다')\n",
    "\n",
    "#배운점: a.reverse는 a에 뒤집어서 저장됨. 리턴이아님"
   ]
  },
  {
   "cell_type": "markdown",
   "metadata": {},
   "source": [
    "# 74"
   ]
  },
  {
   "cell_type": "code",
   "execution_count": 121,
   "metadata": {
    "scrolled": false
   },
   "outputs": [
    {
     "name": "stdout",
     "output_type": "stream",
     "text": [
      "\t1\t2\t3\t4\t5\t6\t7\t8\t9\t10\t\n",
      "1\t1\t2\t3\t4\t5\t6\t7\t8\t9\t10\t\n",
      "2\t2\t4\t6\t8\t10\t12\t14\t16\t18\t20\t\n",
      "3\t3\t6\t9\t12\t15\t18\t21\t24\t27\t30\t\n",
      "4\t4\t8\t12\t16\t20\t24\t28\t32\t36\t40\t\n",
      "5\t5\t10\t15\t20\t25\t30\t35\t40\t45\t50\t\n",
      "6\t6\t12\t18\t24\t30\t36\t42\t48\t54\t60\t\n",
      "7\t7\t14\t21\t28\t35\t42\t49\t56\t63\t70\t\n",
      "8\t8\t16\t24\t32\t40\t48\t56\t64\t72\t80\t\n",
      "9\t9\t18\t27\t36\t45\t54\t63\t72\t81\t90\t\n",
      "10\t10\t20\t30\t40\t50\t60\t70\t80\t90\t100\t"
     ]
    }
   ],
   "source": [
    "#정수 구구단표. 각라인 표시하는 줄 포함하기\n",
    "#굳이 다음 라인으로 내려가지 않아도 결과 출력가능. end=\"\"를 출력문에 마지막 인자로 더하기.\n",
    "print('',end = '\\t')\n",
    "for i in range(1,11):\n",
    "    print(i,end = '\\t')\n",
    "\n",
    "for i in range(1,11):\n",
    "    print(\"\")\n",
    "    print(i,end=\"\\t\")\n",
    "    for j in range(1,11):\n",
    "        print(i*j,end=\"\\t\")"
   ]
  },
  {
   "cell_type": "markdown",
   "metadata": {},
   "source": [
    "# 75"
   ]
  },
  {
   "cell_type": "code",
   "execution_count": 20,
   "metadata": {},
   "outputs": [
    {
     "name": "stdout",
     "output_type": "stream",
     "text": [
      "양의정수를 입력하시오: 16\n",
      "양의정수를 입력하시오: 24\n",
      "8\n"
     ]
    }
   ],
   "source": [
    "#두 정수 n,m의 최대공약수를 구하는 알고리즘\n",
    "#두 양의 정수를 받아서, 이 알고리즘을 써서 최대공약수를 보고하는 프로그램작성\n",
    "#예외처리: 양의정수만.\n",
    "\n",
    "def set():\n",
    "    try:\n",
    "        tmp = int(input(\"양의정수를 입력하시오: \"))\n",
    "    except:\n",
    "        print(\"잘못 입력하였음\")\n",
    "    else:\n",
    "        if tmp>0:\n",
    "            return tmp\n",
    "        else: print(\"잘못입력하였음\")\n",
    "\n",
    "n=set()\n",
    "m=set()\n",
    "d = n if n<m else m\n",
    "while True:\n",
    "    if m%d==0 and n%d==0:\n",
    "        break\n",
    "    else: d = d-1\n",
    "print(d)"
   ]
  },
  {
   "cell_type": "markdown",
   "metadata": {},
   "source": [
    "# 77"
   ]
  },
  {
   "cell_type": "code",
   "execution_count": 7,
   "metadata": {},
   "outputs": [
    {
     "name": "stdout",
     "output_type": "stream",
     "text": [
      "-011\n",
      "10진수:  - 3\n"
     ]
    }
   ],
   "source": [
    "#이진수를 십진수로 변환하는 프로그램. \n",
    "#먼저 이진수 스트링으로 입력받고 각 digit을 프로세싱하여 십진수도출\n",
    "#적절한 메세지와함께 출력\n",
    "#에외처리: 이진수, 음수주의\n",
    "\n",
    "tmp = input()\n",
    "try:\n",
    "    int(tmp)\n",
    "except: \n",
    "    print(\"숫자를 입력하지 않음\")\n",
    "else:\n",
    "    a = list(tmp)\n",
    "    if a[0]=='-':\n",
    "        a.remove('-')\n",
    "    sum = 0\n",
    "    a.reverse()\n",
    "    for i in range(0,len(a)):\n",
    "        if int(a[i])!= 0 and int(a[i])!= 1:\n",
    "            print(\"이진수가 아님\")\n",
    "            quit()\n",
    "        sum += int(a[i])*2**i\n",
    "    print(\"10진수: \", end=\" \")\n",
    "    print(sum) if int(tmp)>0 else print('-',sum)\n"
   ]
  },
  {
   "cell_type": "markdown",
   "metadata": {},
   "source": [
    "# 78"
   ]
  },
  {
   "cell_type": "code",
   "execution_count": 24,
   "metadata": {},
   "outputs": [
    {
     "name": "stdout",
     "output_type": "stream",
     "text": [
      "십진수 숫자를 입력하시오11\n",
      "이진수 표현:  1011\n"
     ]
    }
   ],
   "source": [
    "#아래의 알고리즘사용. 끝나면 result는 숫자의 이진수표현을 포함. 결과보여주기\n",
    "#예외처리: 문자예외, 음수주의\n",
    "try:\n",
    "    tmp = int(input('십진수 숫자를 입력하시오'))\n",
    "except: print(\"숫자가 아닙니다\")\n",
    "else: q=tmp  \n",
    "\n",
    "result=str()\n",
    "while(q!=0):\n",
    "    r = q%2\n",
    "    result=str(r)+result\n",
    "    q = q//2\n",
    "print('이진수 표현: ',result)"
   ]
  },
  {
   "cell_type": "code",
   "execution_count": null,
   "metadata": {},
   "outputs": [],
   "source": []
  }
 ],
 "metadata": {
  "kernelspec": {
   "display_name": "Python 3",
   "language": "python",
   "name": "python3"
  },
  "language_info": {
   "codemirror_mode": {
    "name": "ipython",
    "version": 3
   },
   "file_extension": ".py",
   "mimetype": "text/x-python",
   "name": "python",
   "nbconvert_exporter": "python",
   "pygments_lexer": "ipython3",
   "version": "3.6.5"
  }
 },
 "nbformat": 4,
 "nbformat_minor": 2
}
