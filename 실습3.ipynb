{
 "cells": [
  {
   "cell_type": "markdown",
   "metadata": {},
   "source": [
    "# 이정민"
   ]
  },
  {
   "cell_type": "markdown",
   "metadata": {},
   "source": [
    "# 82"
   ]
  },
  {
   "cell_type": "code",
   "execution_count": 26,
   "metadata": {},
   "outputs": [
    {
     "name": "stdout",
     "output_type": "stream",
     "text": [
      "14 km를 주행했을 시 총 요금:  29.0 $\n"
     ]
    }
   ],
   "source": [
    "#기본요금 4.00, 140미터 주행시마다 0.25불 추가.\n",
    "#함수작성: 주행한 거리를 km로 받는 유일한 파라미터. 총요금 리턴. \n",
    "#테스트로 메인프로그램 작성\n",
    "\n",
    "def fares(distance):\n",
    "    base = 4.00\n",
    "    #미터 환산\n",
    "    meters = distance*1000\n",
    "    total = base + meters/140*0.25\n",
    "    return total\n",
    "\n",
    "a = 14\n",
    "print(a,\"km를 주행했을 시 총 요금: \",fares(a),'$' )\n"
   ]
  },
  {
   "cell_type": "markdown",
   "metadata": {},
   "source": [
    "# 84 "
   ]
  },
  {
   "cell_type": "code",
   "execution_count": 37,
   "metadata": {},
   "outputs": [
    {
     "name": "stdout",
     "output_type": "stream",
     "text": [
      "숫자를 입력하시오:351512\n",
      "숫자를 입력하시오:234\n",
      "숫자를 입력하시오:633\n",
      "633\n"
     ]
    }
   ],
   "source": [
    "#함수 작성: 3숫자를 인자로 받음, 세개중 중간값을 결과로 리턴\n",
    "#메인프로그램은 3개를 유저에게 받아서 결과출력\n",
    "#힌트 중간값은 오름차순으로 정렬되었을때 중간에 있는 값. if문 혹은 수학으로\n",
    "\n",
    "def median(first,second,third):\n",
    "    num_list = list([first,second,third])\n",
    "    num_list.sort()\n",
    "    min= num_list[1]\n",
    "    return min\n",
    "\n",
    "def InputNumber():\n",
    "    try:\n",
    "        tmp = int(input(\"숫자를 입력하시오:\"))\n",
    "    except:\n",
    "        print(\"잘못 입력하였음\")\n",
    "    else:\n",
    "        return tmp\n",
    "a = list([0,0,0])\n",
    "for i in range(0,3):\n",
    "    a[i]=InputNumber()\n",
    "print(median(a[0],a[1],a[2]))\n",
    "\n",
    "#주의: 기본으로 할당하는 list()는 인덱스 접근이 안됨 크기가 없음"
   ]
  },
  {
   "cell_type": "code",
   "execution_count": 34,
   "metadata": {},
   "outputs": [
    {
     "name": "stdout",
     "output_type": "stream",
     "text": [
      "0\n",
      "1\n",
      "2\n"
     ]
    }
   ],
   "source": [
    "a = list(range(0,3))\n",
    "print(a[0])\n",
    "print(a[1])\n",
    "print(a[2])"
   ]
  },
  {
   "cell_type": "markdown",
   "metadata": {},
   "source": [
    "#  85"
   ]
  },
  {
   "cell_type": "code",
   "execution_count": 58,
   "metadata": {
    "scrolled": true
   },
   "outputs": [
    {
     "name": "stdout",
     "output_type": "stream",
     "text": [
      "first\n",
      "second\n",
      "third\n",
      "fourth\n",
      "fifth\n",
      "sixth\n",
      "seventh\n",
      "eighth\n",
      "ninth\n",
      "tenth\n",
      "eleventh\n",
      "twelvth\n"
     ]
    }
   ],
   "source": [
    "# 함수: 정수를 하나의 파라미터로. 결과로 해당하는 순서의 스트링 리턴\n",
    "# 범위는 1-12. 벗어날시 빈 스트링 리턴\n",
    "#메인프로그램: 1부터 12까지 보이기 .\n",
    "#단 파일이 다른 프로그램으로 import되지 않았을 때에만 실행되어야함?!\n",
    "def OriginalNum(integer):\n",
    "    original_dic = dict([(1,'first'), (2,'second'),(3,'third'),(4,'fourth'),(5,'fifth'),(6,'sixth'),(7,'seventh'),(8,'eighth'),(9,'ninth'),(10,'tenth'),(11,'eleventh'),(12,'twelvth')])\n",
    "    return original_dic[integer]\n",
    "\n",
    "for i in range(1,13):\n",
    "    print(OriginalNum(i))\n"
   ]
  },
  {
   "cell_type": "code",
   "execution_count": 55,
   "metadata": {},
   "outputs": [],
   "source": [
    "d = dict([(2, 'two'), ('one', 1), ('three', 3)])"
   ]
  },
  {
   "cell_type": "markdown",
   "metadata": {},
   "source": [
    "# 86 "
   ]
  },
  {
   "cell_type": "markdown",
   "metadata": {},
   "source": [
    "# 88"
   ]
  },
  {
   "cell_type": "code",
   "execution_count": 2,
   "metadata": {},
   "outputs": [
    {
     "name": "stdout",
     "output_type": "stream",
     "text": [
      "숫자를 입력하시오:3\n",
      "숫자를 입력하시오:3\n",
      "숫자를 입력하시오:6\n"
     ]
    },
    {
     "data": {
      "text/plain": [
       "False"
      ]
     },
     "execution_count": 2,
     "metadata": {},
     "output_type": "execute_result"
    }
   ],
   "source": [
    "#3개 빨대. 다른 길이. 끝 만나는 삼각형 만들수도 못만들수도\n",
    "#삼각형 생성의 조건: 다른 두개 변의 길이합보다 하나가 길거나 같으면x 작아야함.\n",
    "#삼각형 만들수있는지 판정하는 함수. 3개의 파라미터를 받고 부울 리턴. \n",
    "#3개 길이 받아 함수실행하는 프로그램\n",
    "\n",
    "def triangle(a,b,c):\n",
    "    return True if (a < b+c and b<a+c and c<a+b) else False\n",
    "\n",
    "def InputNumber():\n",
    "    try:\n",
    "        tmp = int(input(\"숫자를 입력하시오:\"))\n",
    "    except:\n",
    "        print(\"잘못 입력하였음\")\n",
    "    else:\n",
    "        return tmp\n",
    "a = list([0,0,0])\n",
    "for i in range(0,3):\n",
    "    a[i] = InputNumber()\n",
    "triangle(a[0],a[1],a[2])\n",
    "\n",
    "#예외처리 제대로 안된다...."
   ]
  },
  {
   "cell_type": "markdown",
   "metadata": {},
   "source": [
    "# 89"
   ]
  },
  {
   "cell_type": "markdown",
   "metadata": {},
   "source": [
    "# 90"
   ]
  },
  {
   "cell_type": "markdown",
   "metadata": {},
   "source": [
    "# 92 "
   ]
  },
  {
   "cell_type": "code",
   "execution_count": null,
   "metadata": {},
   "outputs": [],
   "source": [
    "#1보다 큰 정수, 1과 그 자신으로만 나눠짐. prime number = 소수\n",
    "#함수: bool리턴. 소수여부 판정\n",
    "#메인: 정수 읽어서 메세지 출ㄺ\n",
    "#파일이 임포트 안되었을때만 실행\n",
    "\n",
    "def prime(num):\n",
    "    if num>1 and num\n",
    "    \n",
    "def "
   ]
  },
  {
   "cell_type": "markdown",
   "metadata": {},
   "source": [
    "# 93"
   ]
  },
  {
   "cell_type": "markdown",
   "metadata": {},
   "source": [
    "# 96"
   ]
  }
 ],
 "metadata": {
  "kernelspec": {
   "display_name": "Python 3",
   "language": "python",
   "name": "python3"
  },
  "language_info": {
   "codemirror_mode": {
    "name": "ipython",
    "version": 3
   },
   "file_extension": ".py",
   "mimetype": "text/x-python",
   "name": "python",
   "nbconvert_exporter": "python",
   "pygments_lexer": "ipython3",
   "version": "3.6.5"
  }
 },
 "nbformat": 4,
 "nbformat_minor": 2
}
