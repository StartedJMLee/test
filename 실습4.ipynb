{
 "cells": [
  {
   "cell_type": "markdown",
   "metadata": {},
   "source": [
    "# 실습4\n",
    "# 전공자반 이정민"
   ]
  },
  {
   "cell_type": "markdown",
   "metadata": {},
   "source": [
    "# 129"
   ]
  },
  {
   "cell_type": "code",
   "execution_count": 141,
   "metadata": {
    "scrolled": true
   },
   "outputs": [
    {
     "name": "stdout",
     "output_type": "stream",
     "text": [
      "Total\tSimulated\tExpected\n",
      "2 \t 2.5 \t 2.78\n",
      "3 \t 5.5 \t 5.56\n",
      "4 \t 8.0 \t 8.33\n",
      "5 \t 10.3 \t 11.11\n",
      "6 \t 14.1 \t 13.89\n",
      "7 \t 16.8 \t 16.67\n",
      "8 \t 15.0 \t 13.89\n",
      "9 \t 11.8 \t 11.11\n",
      "10 \t 6.7 \t 8.33\n",
      "11 \t 6.1 \t 5.56\n",
      "12 \t 3.2 \t 2.78\n"
     ]
    }
   ],
   "source": [
    "#2개 주사위를 1000번 굴림. 시뮬레이션 함수로 시작. 인자 없음. total 반환\n",
    "#메인함수: 천번 사용. 각 숫자합이 일어난 횟수를 계산함 결과를 테이블로 요약. 빈도를 퍼센트로 표시하고, 예상 퍼센테이지도 출력\n",
    "#형태는 표 참조\n",
    "from random import *\n",
    "\n",
    "def simulation():\n",
    "    a = randint(1,6)\n",
    "    b = randint(1,6)\n",
    "    return a+b\n",
    "\n",
    "#simualted percent: dic[total]/1000*100   \n",
    "#expected percent: (1,1) => 1/36 => (1/36*1000/1000)*100\n",
    "def simulated(total):\n",
    "    return round(dic[total]/1000*100,2)\n",
    "\n",
    "def expected(total):\n",
    "    #가능한 쌍 찾기\n",
    "    pair=set()\n",
    "    for i in range(1,7):\n",
    "        if 1<=total-i<=6:\n",
    "            pair.add((i,total-i))\n",
    "        else: pass\n",
    "    result = (len(pair)/36*1000)/1000*100\n",
    "    return round(result,2)\n",
    "\n",
    "#main\n",
    "dic = dict()\n",
    "for i in range(0,1000):\n",
    "    #cursor=0\n",
    "    total= simulation()\n",
    "    if  total not in dic:\n",
    "        dic[total] = 1\n",
    "        #새로운 쌍 추가\n",
    "    else: dic[total] = dic[total]+1\n",
    "\n",
    "print(\"Total\"+'\\t'+\"Simulated\"+'\\t'+\"Expected\")\n",
    "key_list = list(dic.keys())\n",
    "key_list.sort()\n",
    "for i in range(len(dic)):\n",
    "    print(key_list[i],'\\t',simulated(key_list[i]),'\\t',expected(key_list[i]))\n",
    "    \n",
    "\n",
    "\n"
   ]
  },
  {
   "cell_type": "markdown",
   "metadata": {},
   "source": [
    "# 130"
   ]
  },
  {
   "cell_type": "code",
   "execution_count": 15,
   "metadata": {},
   "outputs": [],
   "source": [
    "# 숫자로만 구성된 문자메세지\n",
    "# 각 키에 여러 문자 배당. \n",
    "#프로그램: 입력받은 문자는 몇번의 누름 필요한지 보여줌\n",
    "# 딕셔너리 사용, 각 번호키 누름숫자만큼 보여줌\n",
    "#대소문자 모두 보장하기. 표에 없는건 무시하기"
   ]
  },
  {
   "cell_type": "code",
   "execution_count": 63,
   "metadata": {},
   "outputs": [
    {
     "name": "stdout",
     "output_type": "stream",
     "text": [
      "문장을 입력하시오: Hello, World!\n",
      "['H', 'E', 'L', 'L', 'O', ',', ' ', 'W', 'O', 'R', 'L', 'D', '!']\n",
      "4433555555666110966677755531111"
     ]
    }
   ],
   "source": [
    "keys = dict({'.':1,',':11,'?':111,'!':1111,':':11111, 'A':2,'B':22,'C':222, 'D':3,'E':33,'F':333,'G':4,'H':44,'I':444,'J':5,'K':55,'L':555,'M':6,'N':66,'O':666,'P':7,'Q':77,'R':777,'S':7777,'T':8,'U':88,'V':888,'W':9,'X':99,'Y':999,'Z':9999,' ':0})\n",
    "text = input(\"문장을 입력하시오: \")\n",
    "text = text.upper()\n",
    "text_list = list(text)\n",
    "print(text_list)\n",
    "\n",
    "for i in range(len(text_list)):\n",
    "    try:\n",
    "        print(keys[text_list[i]], end='')\n",
    "    except: pass\n",
    "    \n",
    "    #소문자 입력은 대문자로 바꿔 줌. str.upper()"
   ]
  },
  {
   "cell_type": "markdown",
   "metadata": {},
   "source": [
    "- 값으로 키 찾는 일 없게 하기"
   ]
  },
  {
   "cell_type": "markdown",
   "metadata": {},
   "source": [
    "# 131"
   ]
  },
  {
   "cell_type": "code",
   "execution_count": 78,
   "metadata": {
    "scrolled": false
   },
   "outputs": [
    {
     "name": "stdout",
     "output_type": "stream",
     "text": [
      "메세지를 입력하시오. 숫자와 문자로만 입력할것: hello, World!\n",
      ".... . .-.. .-.. - - - .- - - - - .-. .-..  -.. "
     ]
    }
   ],
   "source": [
    "#딕셔너리로 매핑정보 저장, dot과 하이픈으로 표시. \n",
    "#유저에게 메세지 받아 모스부호로 출력. 각 문자사이에 sapce있어야 함\n",
    "#숫자 문자 아니면 무시할것\n",
    "\n",
    "\n",
    "morse = dict({'A':'.-','B':'-...','C': '-.-.','D':' -..','E': '.','F':'..-.','G':'- -.','H':'....','I': '..','J': '.- - -', 'S': '...', '1': '.- - - -','K': '-.-', 'T' :'-' ,'2': '..---','L': '.-..', 'U': '..-', '3': '...- -','M': '- -' ,'V': '...-', '4': '....-','N': '-.', 'W': '.- -', '5': '.....','O': '- - -', 'X': '-..-', '6': '-....','P': '.- -.', 'Y':'-.- -', '7': '- -...','Q': '- -.-', 'Z': '- -..', '8': '- - -..','R': '.-.', '0': '- - - - -', '9' :'----.'})\n",
    "message = input(\"메세지를 입력하시오. 숫자와 문자로만 입력할것: \")\n",
    "message= message.upper()\n",
    "for i in range(len(message)):\n",
    "    try:\n",
    "        a = morse[message[i]]\n",
    "    except:\n",
    "        pass\n",
    "    else:\n",
    "        print(a,end=' ')\n"
   ]
  },
  {
   "cell_type": "markdown",
   "metadata": {},
   "source": [
    "# 132"
   ]
  },
  {
   "cell_type": "markdown",
   "metadata": {},
   "source": []
  },
  {
   "cell_type": "code",
   "execution_count": 73,
   "metadata": {},
   "outputs": [
    {
     "name": "stdout",
     "output_type": "stream",
     "text": [
      "우편번호를 입력하시오: X0A 1B2\n",
      "province:  Nunavut or Northwest Territories\n",
      "the adress is: rural\n"
     ]
    }
   ],
   "source": [
    "#1,3,5번째 글자는 문자이고 2,4,6는 숫자다\n",
    "#지역은 첫번째 글자로 판별가능.\n",
    "#두번째 글자는 시골/도시, 0이 시골 나머지는 도시\n",
    "#입력은 코드, 출력은 지역과 시골도시여부 보여주는것. \n",
    "#첫번째 글자 딕셔너리 사용. \n",
    "#무효한 글자일경우 에러메세지 출력\n",
    "\n",
    "first = dict({'A':\"Newfoundland\",'B':\"Nova Scotia\",'C':\"Prince Edward Island\",'E':\"New Brunswick\",'G':\"Quebec\",'H':\"Quebec\",'J':\"Quebec\",'K':\"Ontario\",'L':\"Ontario\",'M':\"Ontario\",'N':\"Ontario\",'O':\"Ontario\",'P':\"Ontario\",'R':\"Manitoba\",'S':\"Saskatchewan\",'T':\"Alberta\",'V':\"British Columbia\",'X':\"Nunavut or Northwest Territories\",'Y':\"Yukon\"})\n",
    "code_text = input(\"우편번호를 입력하시오: \")\n",
    "#code_list = list(code_text)\n",
    "try:\n",
    "    print(\"province: \",first[code_text[0]])\n",
    "except:\n",
    "    print(\"무효한 글자입니다\")\n",
    "print(\"the adress is: \",end='')\n",
    "print(\"rural\") if code_text[1] == '0' else print(\"urban\")\n"
   ]
  },
  {
   "cell_type": "code",
   "execution_count": null,
   "metadata": {},
   "outputs": [],
   "source": []
  }
 ],
 "metadata": {
  "kernelspec": {
   "display_name": "Python 3",
   "language": "python",
   "name": "python3"
  },
  "language_info": {
   "codemirror_mode": {
    "name": "ipython",
    "version": 3
   },
   "file_extension": ".py",
   "mimetype": "text/x-python",
   "name": "python",
   "nbconvert_exporter": "python",
   "pygments_lexer": "ipython3",
   "version": "3.6.5"
  }
 },
 "nbformat": 4,
 "nbformat_minor": 2
}
