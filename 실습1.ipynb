{
 "cells": [
  {
   "cell_type": "markdown",
   "metadata": {},
   "source": [
    "# 실습1 / 전공자반 이정민"
   ]
  },
  {
   "cell_type": "markdown",
   "metadata": {},
   "source": [
    "# 105"
   ]
  },
  {
   "cell_type": "code",
   "execution_count": 13,
   "metadata": {},
   "outputs": [
    {
     "name": "stdout",
     "output_type": "stream",
     "text": [
      "값을 입력하시오\n",
      "1\n",
      "값을 입력하시오\n",
      "2\n",
      "값을 입력하시오\n",
      "0\n",
      "[2, 1]\n"
     ]
    }
   ],
   "source": [
    "a = list()\n",
    "while True:\n",
    "    print('값을 입력하시오')\n",
    "    try:\n",
    "        b = int(input())\n",
    "    except:\n",
    "        print(\"정수값이 아님. 다시 입력\")\n",
    "    else:\n",
    "        if b==0:\n",
    "            break;\n",
    "        a.append(b)\n",
    "a.reverse()\n",
    "print(a)\n",
    "    "
   ]
  },
  {
   "cell_type": "markdown",
   "metadata": {},
   "source": [
    "# 107"
   ]
  },
  {
   "cell_type": "code",
   "execution_count": 1,
   "metadata": {
    "scrolled": true
   },
   "outputs": [
    {
     "name": "stdout",
     "output_type": "stream",
     "text": [
      "단어를 입력하시오\n",
      "first\n",
      "단어를 입력하시오\n",
      "second\n",
      "단어를 입력하시오\n",
      "first\n",
      "단어를 입력하시오\n",
      "third\n",
      "단어를 입력하시오\n",
      "second\n",
      "단어를 입력하시오\n",
      "\n",
      "first\n",
      "second\n",
      "third\n"
     ]
    }
   ],
   "source": [
    "#set에 저장했다 출력\n",
    "#공백 읽으면 종료\n",
    "#한라인에 한단어 출력\n",
    "a = list()\n",
    "while True:\n",
    "    print('단어를 입력하시오')\n",
    "    b = input()\n",
    "    if b == '':\n",
    "        break;\n",
    "    else: \n",
    "        #순서 유지하며 중복제거\n",
    "        if b not in a:\n",
    "            a.append(b)\n",
    "            \n",
    "for i in range(0,len(a)):\n",
    "    print(a[i])\n"
   ]
  },
  {
   "cell_type": "markdown",
   "metadata": {},
   "source": [
    "# 108"
   ]
  },
  {
   "cell_type": "code",
   "execution_count": 12,
   "metadata": {},
   "outputs": [
    {
     "name": "stdout",
     "output_type": "stream",
     "text": [
      "값을 입력하시오\n",
      "그림\n",
      "정수 아닙니다. 정수 입력하세요\n",
      "값을 입력하시오\n",
      "1\n",
      "입력받음\n",
      "값을 입력하시오\n",
      "\n",
      "[1]\n"
     ]
    }
   ],
   "source": [
    "#정수를 빈라인 입력때까지 받음\n",
    "#음수만 보여줌\n",
    "#그다음 모든 0 출력d\n",
    "#그다움 모든 양수 출력\n",
    "#입력받은 순서대로 출력\n",
    "#한 라인에 출력\n",
    "\n",
    "neg = list()\n",
    "zer = list()\n",
    "pos = list()\n",
    "while True:\n",
    "    print('값을 입력하시오')\n",
    "    b= input()\n",
    "    if b == '':\n",
    "        break;\n",
    "    else:\n",
    "        try:\n",
    "            b = int(b)\n",
    "            print('입력받음')\n",
    "            if b<0:\n",
    "                neg.append(b)\n",
    "            elif b==0:\n",
    "                zer.append(b)\n",
    "            elif b>0:\n",
    "                pos.append(b)\n",
    "        except:\n",
    "            print('정수 아닙니다. 정수 입력하세요')\n",
    "\n",
    "print(neg+zer+pos)\n"
   ]
  },
  {
   "cell_type": "markdown",
   "metadata": {},
   "source": [
    "# 110"
   ]
  },
  {
   "cell_type": "code",
   "execution_count": 26,
   "metadata": {},
   "outputs": [
    {
     "name": "stdout",
     "output_type": "stream",
     "text": [
      "6\n",
      "28\n",
      "496\n",
      "8128\n"
     ]
    }
   ],
   "source": [
    "#약수의 합이 자기 자신인 정수를 완벽하다고 함\n",
    "#함수를 작성하라. 완벽한지 판별하는\n",
    "#인자는 하나\n",
    "#실매개가 완벽한숫자면, true리턴 아니면 f\n",
    "#메인함수 작성. 1과 10000사이의 완벽한 숫자 보여주는.\n",
    "\n",
    "def perfect(num):\n",
    "    sum = 0\n",
    "    for i in range(1,num):\n",
    "        if (num%i)==0:\n",
    "            sum += i\n",
    "    #print(sum)\n",
    "    if sum == num:\n",
    "        return True\n",
    "    else:\n",
    "        return False\n",
    "\n",
    "for j in range(1,10000):\n",
    "    out = perfect(j)\n",
    "    if out==True:\n",
    "        print(j)\n",
    "\n",
    "    \n",
    "    \n",
    "    \n",
    "    "
   ]
  },
  {
   "cell_type": "markdown",
   "metadata": {},
   "source": [
    "# 113"
   ]
  },
  {
   "cell_type": "code",
   "execution_count": 3,
   "metadata": {
    "scrolled": false
   },
   "outputs": [
    {
     "name": "stdout",
     "output_type": "stream",
     "text": [
      "apple\n",
      "dest\n",
      "desk\n",
      "chair\n",
      "\n",
      "chair\n"
     ]
    },
    {
     "data": {
      "text/plain": [
       "'apple, dest, desk, and chair'"
      ]
     },
     "execution_count": 3,
     "metadata": {},
     "output_type": "execute_result"
    }
   ],
   "source": [
    "#리스트에 한 인자로 str리스트만 받는 함수\n",
    "#모든 리스트의 단어 포함하는 스트링 반환. \n",
    "#어떤 길이의 리스트이든.\n",
    "#인풋을 여러번 받아서 함수 불러 해결하고 결과 출력한다 단 결과는 함수에서 리턴받아야함\n",
    "#예외처리: 인풋은 numeric안됨\n",
    "\n",
    "def words(a):\n",
    "    out = str()\n",
    "    size = len(a)\n",
    "    ano = a.pop(size-1)\n",
    "    print(ano)\n",
    "    ano = str(ano)\n",
    "    colon = ', '\n",
    "    out = colon.join(a) + ', and ' + ano\n",
    "    return out\n",
    "\n",
    "line = list()\n",
    "while True:\n",
    "    a = input()\n",
    "    if a=='':\n",
    "        break;\n",
    "    elif type(a)==str:\n",
    "        line.append(a)\n",
    "    \n",
    "words(line)"
   ]
  },
  {
   "cell_type": "code",
   "execution_count": 33,
   "metadata": {},
   "outputs": [
    {
     "data": {
      "text/plain": [
       "'d,a'"
      ]
     },
     "execution_count": 33,
     "metadata": {},
     "output_type": "execute_result"
    }
   ],
   "source": [
    "a = ['d','a']\n",
    "b = str()\n",
    "b = ','\n",
    "b.join(a)"
   ]
  },
  {
   "cell_type": "code",
   "execution_count": null,
   "metadata": {},
   "outputs": [],
   "source": [
    "list.pop"
   ]
  },
  {
   "cell_type": "markdown",
   "metadata": {},
   "source": [
    "# 114"
   ]
  },
  {
   "cell_type": "code",
   "execution_count": 20,
   "metadata": {
    "scrolled": true
   },
   "outputs": [
    {
     "name": "stdout",
     "output_type": "stream",
     "text": [
      "[6, 29, 33, 39, 42, 47]\n"
     ]
    }
   ],
   "source": [
    "#복권 1등. 1~49 숫자, 6개. 중복없이 뽑는 프로그램\n",
    "#오름차순으로 출력\n",
    "#set에 저장해서 isfull검사하고 sort해서 출력\n",
    "\n",
    "\n",
    "from random import randint\n",
    "\n",
    "lot = set()\n",
    "\n",
    "while (len(lot) != 6):\n",
    "    pick = randint(1,49)\n",
    "    lot.add(pick)\n",
    "\n",
    "a = list(lot)\n",
    "a.sort()\n",
    "print(a)"
   ]
  },
  {
   "cell_type": "markdown",
   "metadata": {},
   "source": [
    "# 134"
   ]
  },
  {
   "cell_type": "code",
   "execution_count": 35,
   "metadata": {
    "scrolled": true
   },
   "outputs": [
    {
     "name": "stdout",
     "output_type": "stream",
     "text": [
      "자 문장을 입력해봅시다\n",
      "this is\n",
      "The number of unique character: 5\n"
     ]
    }
   ],
   "source": [
    "#입력받은 스트링에 있는 uniq char 개수 출력하는 프로그램\n",
    "#조건: 딕셔너리 OR 셋 사용할 것 - 중복제거에 사용.\n",
    "\n",
    "print(\"자 문장을 입력해봅시다\")\n",
    "string = input()\n",
    "a = set()\n",
    "for i in range(0, len(string)):\n",
    "    a.add(string[i])\n",
    "\n",
    "print('The number of unique character:',len(a))"
   ]
  },
  {
   "cell_type": "markdown",
   "metadata": {},
   "source": [
    "# 135"
   ]
  },
  {
   "cell_type": "code",
   "execution_count": 8,
   "metadata": {},
   "outputs": [
    {
     "name": "stdout",
     "output_type": "stream",
     "text": [
      "첫번째 단어 입력\n",
      "this is good\n",
      "['t', 'h', 'i', 's', 'i', 's', ' ', 'g', 'o', 'o', 'd']\n",
      "두번째 단어 입력\n",
      "but not anagram\n",
      "['b', 'u', 't', 'n', 'o', 't', ' ', 'a', 'n', 'a', 'g', 'r', 'a', 'm']\n",
      "첫번째 단어의 구성은 다음과 같습니다 {'t': 1, 'h': 1, 'i': 2, 's': 2, ' ': 1, 'g': 1, 'o': 2, 'd': 1}\n",
      "두번째 단어의 구성은 다음과 같습니다 {'b': 1, 'u': 1, 't': 2, 'n': 2, 'o': 1, ' ': 1, 'a': 2, 'g': 1, 'r': 1, 'm': 1}\n",
      "따라서 두 단어는 anagram이 아님\n"
     ]
    }
   ],
   "source": [
    "#두 단어가 같은 문자를 다른 순서로 포함하면 아나그램이다. 숫자도 맞아야\n",
    "#두개 스트링 받아. 아나그램인지 판별하고 결과보고\n",
    "\n",
    "print(\"첫번째 단어 입력\")\n",
    "a = input()\n",
    "a = list(a)\n",
    "try:\n",
    "    a.remove(' ')\n",
    "except:\n",
    "    pass\n",
    "print(a)\n",
    "\n",
    "print(\"두번째 단어 입력\")\n",
    "b = input()\n",
    "b = list(b)\n",
    "try:\n",
    "    b.remove(' ')\n",
    "except:\n",
    "    pass\n",
    "print(b)\n",
    "\n",
    "dic1 = dict()\n",
    "for i in range(0,len(a)):\n",
    "    if a[i] in dic1:\n",
    "        dic1[a[i]] = 2\n",
    "    else: dic1[a[i]] = 1\n",
    "print('첫번째 단어의 구성은 다음과 같습니다',dic1)\n",
    "dic2 = dict()\n",
    "for i in range(0,len(b)):\n",
    "    if b[i] in dic2:\n",
    "        dic2[b[i]] = 2\n",
    "    else: dic2[b[i]] = 1\n",
    "print('두번째 단어의 구성은 다음과 같습니다',dic2)\n",
    "\n",
    "if dic1 == dic2:\n",
    "    print('따라서 두 단어는 anagram임')\n",
    "else:\n",
    "    print('따라서 두 단어는 anagram이 아님')"
   ]
  }
 ],
 "metadata": {
  "kernelspec": {
   "display_name": "Python 3",
   "language": "python",
   "name": "python3"
  },
  "language_info": {
   "codemirror_mode": {
    "name": "ipython",
    "version": 3
   },
   "file_extension": ".py",
   "mimetype": "text/x-python",
   "name": "python",
   "nbconvert_exporter": "python",
   "pygments_lexer": "ipython3",
   "version": "3.6.5"
  }
 },
 "nbformat": 4,
 "nbformat_minor": 2
}
